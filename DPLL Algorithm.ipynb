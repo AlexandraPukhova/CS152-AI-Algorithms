{
 "cells": [
  {
   "cell_type": "markdown",
   "metadata": {
    "deletable": false,
    "editable": false,
    "nbgrader": {
     "cell_type": "markdown",
     "checksum": "69f9950e2c060ad5c3cc41d2c78fa636",
     "grade": false,
     "grade_id": "cell-36d7173cbd11c12a",
     "locked": true,
     "schema_version": 3,
     "solution": false,
     "task": false
    }
   },
   "source": [
    "<h1>CS152 Assignment 2: The DPLL Algorithm</h1>"
   ]
  },
  {
   "cell_type": "markdown",
   "metadata": {
    "deletable": false,
    "editable": false,
    "nbgrader": {
     "cell_type": "markdown",
     "checksum": "7947006e03ad4d3e0b5469c4ddf997f0",
     "grade": false,
     "grade_id": "cell-8ec27aa9925ffc86",
     "locked": true,
     "schema_version": 3,
     "solution": false,
     "task": false
    }
   },
   "source": [
    "<h1>Question 1</h1>\n",
    "\n",
    "Define your <code>Literal</code> class below.  Ensure that you define a <code>name</code> and <code>sign</code> attribute as required in the assignment description.  In addition, include any other attributes and member functions as needed. You will need to overload <code>__neg__()</code> to correctly handle negated literals.  You may need to overload <code>__eq__()</code> and <code>__hash__()</code> also."
   ]
  },
  {
   "cell_type": "code",
   "execution_count": 1,
   "metadata": {},
   "outputs": [],
   "source": [
    "import numpy as np\n",
    "from copy import deepcopy"
   ]
  },
  {
   "cell_type": "code",
   "execution_count": 2,
   "metadata": {
    "deletable": false,
    "nbgrader": {
     "cell_type": "code",
     "checksum": "6f3dcb95b91cd3b0f526b89f339b3fe9",
     "grade": false,
     "grade_id": "cell-575ae3fbbe1ccbf6",
     "locked": false,
     "schema_version": 3,
     "solution": true,
     "task": false
    }
   },
   "outputs": [],
   "source": [
    "class Literal:\n",
    "    def __init__(self,name,sign=True):\n",
    "        '''\n",
    "        Inputs:\n",
    "\n",
    "            name (str) The literal in type string.\n",
    "              \n",
    "            sign (bool) Corresponds to the sign of the literal.\n",
    "              If False, the literal is negated.\n",
    "              Default: True.\n",
    "        '''\n",
    "        self.name = name\n",
    "        self.sign = sign \n",
    "        \n",
    "    def __neg__(self): # Overload negation\n",
    "        return(Literal(self.name, sign = not self.sign))\n",
    "    \n",
    "    def __repr__(self): # Printing method\n",
    "        rep = self.name if self.sign else (\"-\" + self.name)\n",
    "        return(rep)\n",
    "    \n",
    "    def __eq__(self, other_lit): # Define equality as independent of sign\n",
    "        return(self.name == other_lit.name)\n",
    "        \n",
    "    def __hash__(self):\n",
    "        return(hash(str(self.sign) + self.name)) "
   ]
  },
  {
   "cell_type": "markdown",
   "metadata": {
    "deletable": false,
    "editable": false,
    "nbgrader": {
     "cell_type": "markdown",
     "checksum": "7e6af6a3602f2712265baf6d3ce930f4",
     "grade": false,
     "grade_id": "cell-5df02e9e3f9998b4",
     "locked": true,
     "schema_version": 3,
     "solution": false,
     "task": false
    }
   },
   "source": [
    "<h1>Question 2</h1>\n",
    "Implement DPLL by filling in the stubs below.  Note that the various heuristics are not required to be implemented for basic functionality, but a template has been provided for you to do so if you attempt the extension questions"
   ]
  },
  {
   "cell_type": "code",
   "execution_count": 3,
   "metadata": {
    "deletable": false,
    "nbgrader": {
     "cell_type": "code",
     "checksum": "0e67ceab3fce59552581995e4ad07d1f",
     "grade": false,
     "grade_id": "cell-2846b43cfaf88026",
     "locked": false,
     "schema_version": 3,
     "solution": true,
     "task": false
    }
   },
   "outputs": [],
   "source": [
    "def degree_heuristic(KB, symbols, model):\n",
    "    \"\"\"\n",
    "      S = degree_heuristic(clauses, symbols, model):\n",
    "          clauses: The KB with a list of clauses\n",
    "          symbols: A set of the current literals (we are only interested in the literal, not the sign)\n",
    "          model: A dictionary giving the truth values assigned for the model\n",
    "          S: A literal object representing the unassigned \n",
    "              symbol that appears the most across all clauses (should be positive)\n",
    "    \"\"\"\n",
    "    d={} # keep dictionary with counts\n",
    "    for clause in KB:\n",
    "        for lit in clause:\n",
    "            liter = deepcopy(lit) # create a copy not to alter the original symbol\n",
    "            liter.sign = True # change sign if necessary, since all symbols are positive\n",
    "            if liter not in symbols: continue # break out of the loop\n",
    "            if liter not in d:\n",
    "                d[liter] = 1 # initiate count\n",
    "            else:\n",
    "                d[liter] +=1 # add count\n",
    "    S = max(d, key=d.get)\n",
    "    return(S) \n",
    "\n",
    "\n",
    "def find_unit_clause(KB, symbols, model):\n",
    "    \"\"\"\n",
    "      U = find_unit_clause(clauses, symbols, model):\n",
    "          clauses: The KB with a list of clauses\n",
    "          symbols: A set of the current literals (we are only interested in the literal, not the sign)\n",
    "          model: A dictionary giving the truth values assigned for the model\n",
    "          U:  A unit clause (currently unassigned in model)\n",
    "    \"\"\"\n",
    "    for clause in KB:\n",
    "        if len(clause) != 1:continue # break out of this loop\n",
    "        for lit in clause:\n",
    "            liter = deepcopy(lit) # in order not to alter the original symbol\n",
    "            liter.sign = True # change sign if necessary, since symbols are all positive\n",
    "            if liter in symbols: return(liter)\n",
    "    U = None\n",
    "    return(U)\n",
    "\n",
    "\n",
    "def DPLL_algorithm(KB, symbols, model):\n",
    "    \n",
    "    '''\n",
    "        Takes in a KB and returns whether the KB is satisfiable, and the model that makes it so.\n",
    "        \n",
    "        satisfiable, model = DPLL_algorithm(KB, symbols, model)\n",
    "        \n",
    "        satisfiable: Returns True if the KB is satisfiable, or False otherwise\n",
    "        \n",
    "        Model: A dictionary that assigns a truth value to each literal for the model that satisfies KB.\n",
    "            For example, a model might look like {A: True, B: False}\n",
    "    '''\n",
    "    \n",
    "    global all_symbols\n",
    "    \n",
    "    if set() in KB: \n",
    "        # backtracking to closest valid parent model here\n",
    "        return(False, set()) \n",
    "    \n",
    "    # If no clauses left to prove, reconstruct \n",
    "    # the solution with the final values in model.\n",
    "    if not KB: \n",
    "        sat_model = dict()\n",
    "        for sym in all_symbols: \n",
    "            if sym in model:\n",
    "                if model[sym]:\n",
    "                    sat_model[sym] = True\n",
    "                else:\n",
    "                    sat_model[sym] = False\n",
    "            else:\n",
    "                # This symbol can take any value and still result in a satisfiable sentence\n",
    "                sat_model[sym] = 'Any value'\n",
    "        return(True, sat_model)\n",
    "    \n",
    "    # pick a unit clause from the sentence, if exists\n",
    "    unit_clause = find_unit_clause(KB, symbols, model) \n",
    "    \n",
    "    # pick most frequent literal\n",
    "    max_lit = degree_heuristic(KB, symbols, model) \n",
    "    \n",
    "    # Applying unit clause and degree heuristics\n",
    "    \n",
    "    # Most likely, we will not start out with unit clauses, so by the time\n",
    "    # we do get to them, we will have exhausted the degree heuristic.\n",
    "    if unit_clause is not None:\n",
    "        current_lit=unit_clause\n",
    "    else:\n",
    "        current_lit=max_lit\n",
    "    \n",
    "    # Generate a list of the rest of the literals to check, \n",
    "    # i.e. excluding the current literal\n",
    "    other_lits = [lit for lit in symbols if lit!=current_lit]\n",
    "    \n",
    "    set1 = []\n",
    "    set2 = []\n",
    "    \n",
    "    for clause in KB:\n",
    "        # Construct the clauses without positive current literal\n",
    "        # (negative literal allowed)\n",
    "        if current_lit not in clause:\n",
    "            set1.append(set(lit for lit in clause if current_lit != lit))\n",
    "        \n",
    "        # Construct the clauses without negative current literal\n",
    "        # (positive literal allowed)\n",
    "        if -current_lit not in clause:\n",
    "            set2.append(set(lit for lit in clause if current_lit != lit))\n",
    "    \n",
    "    model[current_lit] = True # try assigning True\n",
    "    \n",
    "    # pass through the rest of the clauses, assuming current literal is True\n",
    "    result, m = DPLL_algorithm(set1, other_lits, model.copy())  \n",
    "    if result: return(result, m)\n",
    "    \n",
    "    model[current_lit] = False # try assigning False\n",
    "    \n",
    "    # pass through the rest of the clauses, assuming current literal is False\n",
    "    result1, m1 = DPLL_algorithm(set2, other_lits, model.copy())\n",
    "    if result1: return(result1, m1)\n",
    "    \n",
    "    else:\n",
    "        return(False, set())    \n",
    "\n",
    "def DPLL_Satisfiable(KB):\n",
    "    ''' \n",
    "        Calls the DPLL_algorithm() function that implements the DPLL algorithm \n",
    "        and recursively calls itself.\n",
    "        \n",
    "        KB: A knowledge base of clauses (CNF) consisting of a list of sets of literals.  A KB might look like\n",
    "            [{A,B},{-A,C,D}]\n",
    "    '''\n",
    "    symbols = set(sym for clause in KB for sym in clause)   \n",
    "    return(DPLL_algorithm(KB, symbols, dict()))"
   ]
  },
  {
   "cell_type": "markdown",
   "metadata": {
    "deletable": false,
    "editable": false,
    "nbgrader": {
     "cell_type": "markdown",
     "checksum": "1a373b0f237fb333214a04ced058f50f",
     "grade": false,
     "grade_id": "cell-8c6248549aeaca88",
     "locked": true,
     "schema_version": 3,
     "solution": false,
     "task": false
    }
   },
   "source": [
    "<h1>Question 3</h1>\n",
    "\n",
    "Implement your KB from Russell & Norvig in CNF by filling in the sets inside the list <code>KB</code> below.  Ensure that your KB is in a list of set format as stated in the assignment instructions."
   ]
  },
  {
   "cell_type": "markdown",
   "metadata": {
    "deletable": false,
    "editable": false,
    "nbgrader": {
     "cell_type": "markdown",
     "checksum": "29e6f829f45b9b687c258e6bc7bb6fb5",
     "grade": false,
     "grade_id": "cell-3e6849da5a8eba9a",
     "locked": true,
     "schema_version": 3,
     "solution": false,
     "task": false
    }
   },
   "source": [
    "<h1>Extensions</h1>\n",
    "\n",
    "1. Complete the degree heuristic function by filling in the placeholder in Q2.\n",
    "2. Complete the pure symbol and unit clause heuristics by filling in the placeholder in Q2.\n",
    "3. Modify the pure symbol heuristic to choose the pure symbol that occurs in the most number of clauses."
   ]
  },
  {
   "cell_type": "markdown",
   "metadata": {
    "deletable": false,
    "editable": false,
    "nbgrader": {
     "cell_type": "markdown",
     "checksum": "755ed998a518249d48e3e3518ec2ed63",
     "grade": false,
     "grade_id": "cell-f24016ad18be5ed3",
     "locked": true,
     "schema_version": 3,
     "solution": false,
     "task": false
    }
   },
   "source": [
    "<h1>Basic Functionality Tests</h1>\n",
    "\n",
    "All of the tests in this section must be passed for the code to be considered fully functional.  Other unseen test cases will be used after submission to further verify functionality"
   ]
  },
  {
   "cell_type": "code",
   "execution_count": 4,
   "metadata": {
    "deletable": false,
    "editable": false,
    "nbgrader": {
     "cell_type": "code",
     "checksum": "9c6c235a4e8ec0b2170d85eb02e0f29b",
     "grade": true,
     "grade_id": "cell-6af1cbc180046559",
     "locked": true,
     "points": 1,
     "schema_version": 3,
     "solution": false,
     "task": false
    }
   },
   "outputs": [],
   "source": [
    "# This section will test the correct definition of the literal class\n",
    "\n",
    "# Define some literals\n",
    "A = Literal('A')\n",
    "B = Literal('B')\n",
    "C = Literal('C')\n",
    "D = Literal('D')\n",
    "E = Literal('E')\n",
    "F = Literal('F')\n",
    "\n",
    "\n",
    "# Test the name attribute works correctly\n",
    "assert(A.name == 'A')\n",
    "\n",
    "# Test that negation works correctly\n",
    "assert(not (-C).sign)"
   ]
  },
  {
   "cell_type": "code",
   "execution_count": 5,
   "metadata": {
    "deletable": false,
    "nbgrader": {
     "cell_type": "code",
     "checksum": "66d577208680f82f36b5ee660a32ae51",
     "grade": false,
     "grade_id": "cell-2600ca4ae2649468",
     "locked": false,
     "schema_version": 3,
     "solution": true,
     "task": false
    }
   },
   "outputs": [],
   "source": [
    "# From Exercise 7.20 of Russell & Norvig \n",
    "KB = [{-A, B, E}, {-B, A}, {-E, A}, {-E, D}, {-C, -F, -B}, {-E, B}, {-B, F}, {-B, C}]"
   ]
  },
  {
   "cell_type": "code",
   "execution_count": 6,
   "metadata": {},
   "outputs": [],
   "source": [
    "# Defining the global literal that I am using in my DPLL_algorithm() function.\n",
    "all_symbols = {A,B,C,D,E,F}"
   ]
  },
  {
   "cell_type": "code",
   "execution_count": 7,
   "metadata": {
    "deletable": false,
    "editable": false,
    "nbgrader": {
     "cell_type": "code",
     "checksum": "9264e8da332b50a0adf2a1de4ec4a591",
     "grade": true,
     "grade_id": "cell-76b5f4949b4918a0",
     "locked": true,
     "points": 2,
     "schema_version": 3,
     "solution": false,
     "task": false
    }
   },
   "outputs": [],
   "source": [
    "# This section will test that the KB has been correctly converted to CNF by performing \n",
    "# tests over all possible models\n",
    "import itertools\n",
    "symbols = {A,B,C,D,E,F}\n",
    "symbol_list = [A,B,C,D,E,F]\n",
    "\n",
    "def evaluate_russell_norvig_KB(model):\n",
    "    # Manually evaluate the KB using the model\n",
    "    s = list()\n",
    "    s.append(model[A] == (model[B] or model[E]))\n",
    "    s.append(model[E] <= model[D])\n",
    "    s.append((model[C] and model[F]) <= (not model[B]))\n",
    "    s.append(model[E] <= model[B])\n",
    "    s.append(model[B] <= model[F])\n",
    "    s.append(model[B] <= model[C])\n",
    "    return all(s)\n",
    "\n",
    "def evaluate_KB(KB, model):\n",
    "    model_true = True\n",
    "    model_name_dict = {l.name: model[l] for l in model}\n",
    "    for clause in KB:\n",
    "        evaluation = {l.sign == model_name_dict[l.name] for l in clause if l.name in model_name_dict}\n",
    "        model_true = model_true and any(evaluation)\n",
    "    return model_true\n",
    "\n",
    "all_models = list(itertools.product([False, True], repeat=6))\n",
    "for i in range(0, len(all_models)):\n",
    "    # Test all truth values\n",
    "    test_model = {symbol_list[j]: all_models[i][j] for j in range(0,6)}\n",
    "    \n",
    "    # Test the model\n",
    "    assert(evaluate_russell_norvig_KB(test_model) == evaluate_KB(KB, test_model))"
   ]
  },
  {
   "cell_type": "code",
   "execution_count": 8,
   "metadata": {
    "deletable": false,
    "editable": false,
    "nbgrader": {
     "cell_type": "code",
     "checksum": "34d60e6b68ef766fbdd9b177a7dcfffa",
     "grade": true,
     "grade_id": "cell-5007c88f303571cb",
     "locked": true,
     "points": 4,
     "schema_version": 3,
     "solution": false,
     "task": false
    }
   },
   "outputs": [],
   "source": [
    "# This section will test the basic working of DPLL\n",
    "# Satisfiable model\n",
    "test_KB = [{A, C},{-A, C}, {B, -C}]\n",
    "t, model = DPLL_Satisfiable(test_KB)\n",
    "assert(evaluate_KB(test_KB, model))\n",
    "assert(t)\n",
    "\n",
    "# Unsatisfiable model\n",
    "test_KB = [{A, C},{-A, C}, {-C}]\n",
    "t, model = DPLL_Satisfiable(test_KB)\n",
    "assert(not t)"
   ]
  },
  {
   "cell_type": "code",
   "execution_count": 9,
   "metadata": {
    "deletable": false,
    "editable": false,
    "nbgrader": {
     "cell_type": "code",
     "checksum": "8a1f07b0a41cf3041beb2bcc46356d19",
     "grade": true,
     "grade_id": "cell-63ce3735a6a8d49e",
     "locked": true,
     "points": 8,
     "schema_version": 3,
     "solution": false,
     "task": false
    }
   },
   "outputs": [],
   "source": [
    "# This will test DPLL on the KB from Russell & Norvig\n",
    "t, model = DPLL_Satisfiable(KB)\n",
    "\n",
    "# This model is satisfiable.  Test that it is so\n",
    "assert(t)\n",
    "\n",
    "# Check that the model found actually works\n",
    "assert(evaluate_KB(KB, model))   "
   ]
  },
  {
   "cell_type": "markdown",
   "metadata": {
    "deletable": false,
    "editable": false,
    "nbgrader": {
     "cell_type": "markdown",
     "checksum": "668dadca7a32947588d46f88578e7505",
     "grade": false,
     "grade_id": "cell-d4a09c27c6cafd14",
     "locked": true,
     "schema_version": 3,
     "solution": false,
     "task": false
    }
   },
   "source": [
    "<h1>Extension Tests</h1>\n",
    "\n",
    "This section will test that the degree heuristic, pure symbol and unit clause heuristics, picking the most frequently used symbol."
   ]
  },
  {
   "cell_type": "code",
   "execution_count": 10,
   "metadata": {
    "deletable": false,
    "editable": false,
    "nbgrader": {
     "cell_type": "code",
     "checksum": "7ea2d60058856b294bf2f971f1639f6b",
     "grade": true,
     "grade_id": "cell-782f68d63b7be51f",
     "locked": true,
     "points": 16,
     "schema_version": 3,
     "solution": false,
     "task": false
    }
   },
   "outputs": [],
   "source": [
    "# Degree Heuristic Test\n",
    "S = degree_heuristic(KB, symbols, dict())\n",
    "assert(S.name == 'B')"
   ]
  },
  {
   "cell_type": "code",
   "execution_count": 11,
   "metadata": {
    "deletable": false,
    "editable": false,
    "nbgrader": {
     "cell_type": "code",
     "checksum": "532f38f93688533feeacfea67121b12e",
     "grade": true,
     "grade_id": "cell-860570cb7e08a33a",
     "locked": true,
     "points": 64,
     "schema_version": 3,
     "solution": false,
     "task": false
    }
   },
   "outputs": [],
   "source": [
    "# Unit Clause Test\n",
    "U = find_unit_clause([{A,B,C},{-C},{A, D}], {A,B,C,D}, dict())\n",
    "assert(U.name == 'C')"
   ]
  },
  {
   "cell_type": "code",
   "execution_count": null,
   "metadata": {
    "deletable": false,
    "editable": false,
    "nbgrader": {
     "cell_type": "code",
     "checksum": "081e3d80ca38204f5ec4cd11ffcc619d",
     "grade": true,
     "grade_id": "cell-1849b5bca210fac7",
     "locked": true,
     "points": 32,
     "schema_version": 3,
     "solution": false,
     "task": false
    }
   },
  },
  {
   "cell_type": "markdown",
   "metadata": {},
   "source": [
    "### References"
   ]
  },
  {
   "cell_type": "markdown",
   "metadata": {},
   "source": [
    "I adopted the idea of extending the DPLL algorithm as presented in Russel & Norvig to clause reduction from one of the previous implementations of DPLL for CS152 class by Miranda (2018). As we assume a truth value for a literal, we reduce each clause in the sentence to a representation that assumes that truth assignment to be valid. The modified clauses are then used in the next recursive DPLL call until all clauses have been proved, or we have found that the sentence is unsatisfiable.\n",
    "\n",
    "\n",
    "Miranda, V. 2018, The DPLL Algorithm. Retrieved from: https://github.com/viniciusmss/CS152-Harnessing-Artificial-Intelligence-Algorithms/blob/master/Assignment%202%20-%20The%20DPLL%20Algorithm.ipynb"
   ]
  }
 ],
 "metadata": {
  "kernelspec": {
   "display_name": "Python 3 (ipykernel)",
   "language": "python",
   "name": "python3"
  },
  "language_info": {
   "codemirror_mode": {
    "name": "ipython",
    "version": 3
   },
   "file_extension": ".py",
   "mimetype": "text/x-python",
   "name": "python",
   "nbconvert_exporter": "python",
   "pygments_lexer": "ipython3",
   "version": "3.9.12"
  }
 },
 "nbformat": 4,
 "nbformat_minor": 2
}
