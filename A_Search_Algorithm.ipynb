{
 "cells": [
  {
   "cell_type": "markdown",
   "metadata": {},
   "source": [
    "## CS152 - Assignment 1"
   ]
  },
  {
   "cell_type": "markdown",
   "metadata": {},
   "source": [
    "The code is this notebook applies the A* search algorithm with various admissible heuristics. "
   ]
  },
  {
   "cell_type": "code",
   "execution_count": 1,
   "metadata": {},
   "outputs": [],
   "source": [
    "import numpy as np\n",
    "import random\n",
    "import copy\n",
    "import heapq"
   ]
  },
  {
   "cell_type": "code",
   "execution_count": 2,
   "metadata": {},
   "outputs": [],
   "source": [
    "class PuzzleNode():\n",
    "    \n",
    "    '''\n",
    "    This is a node class. It captures the state of\n",
    "    the 8-puzzle and its generalizations, as well as the elements\n",
    "    needed to implement an A∗ search. It also enables the user to\n",
    "    print the board state, as well as to test whether the\n",
    "    puzzle is in its solved state.\n",
    "    '''\n",
    "    \n",
    "    def __init__(self,n=0,g=0,f=0,parent=None,state=None, pruned=False): \n",
    "        self.g = g # distance between current node and start node\n",
    "        self.f = f # total cost of the node, i.e. g + heuristic value\n",
    "        self.parent = parent # pointer to parent node\n",
    "        self.pruned = pruned # indication that a node has been pruned\n",
    "        \n",
    "        # Generating a board, filled with numbers in a random order and\n",
    "        # shaping it into the correct board dimentions.\n",
    "        if state is None:\n",
    "            self.state = np.array(random.sample(range(self.n**2),\n",
    "                                                self.n**2)).reshape(self.n, self.n)\n",
    "        else:\n",
    "            self.state = np.array(state)\n",
    "            \n",
    "        self.n = len(self.state) # size of grid dimension \n",
    "    \n",
    "    def __lt__(self, other_node):     \n",
    "        '''\n",
    "        A method that compares one node to another on the basis of their\n",
    "        f values. Used to order nodes in the heapq data structure that is\n",
    "        used to construct the frontier. \n",
    "        '''\n",
    "        return (self.f < other_node.f)\n",
    "    \n",
    "    def __str__(self):     \n",
    "        '''A method that prints out an n-by-n grid, showing the board state.'''\n",
    "        return print(*self.state, sep = ', ')\n",
    "    \n",
    "    def solved_test(self):\n",
    "        '''A method for checking whether the puzzle is in a solved state.'''\n",
    "        return (np.array_equal(self.state,\n",
    "                               np.arange(self.n**2).reshape(self.n, self.n)))"
   ]
  },
  {
   "cell_type": "markdown",
   "metadata": {},
   "source": [
    "### Heuristic functions"
   ]
  },
  {
   "cell_type": "code",
   "execution_count": 3,
   "metadata": {},
   "outputs": [],
   "source": [
    "# Number of misplaced tiles\n",
    "def h1(state):\n",
    "    n = len(state)\n",
    "    state = np.array(state)\n",
    "    goal_state= np.arange(n**2).reshape(n,n)\n",
    "    truth_vals = (state == goal_state)\n",
    "    summ = sum([1 for x in truth_vals for y in x if not y])\n",
    "    empty_spot = np.where(state==0)\n",
    "    if empty_spot != (0,0):\n",
    "        summ = summ -1\n",
    "    return(summ)\n",
    "    \n",
    "# Manhattan distance\n",
    "def mhd(state,goal_state,i): \n",
    "    state = np.array(state)\n",
    "    x1, y1 = (np.where(state==i))\n",
    "    if state[x1[0]][y1[0]]==0:\n",
    "        return(0)\n",
    "    else:\n",
    "        x2, y2 = (np.where(goal_state==i))\n",
    "        return(abs(x1-x2)+abs(y1-y2))\n",
    "\n",
    "def h2(state):\n",
    "    n = len(state)\n",
    "    goal_state = np.arange(n**2).reshape(n,n)\n",
    "    # Computes the sum for all tiles in the board\n",
    "    return(int(sum([mhd(state,goal_state,i) for sublist in state for i in sublist])))\n",
    "\n",
    "heuristics = [h1, h2]"
   ]
  },
  {
   "cell_type": "markdown",
   "metadata": {},
   "source": [
    "## Extensions"
   ]
  },
  {
   "cell_type": "markdown",
   "metadata": {},
   "source": [
    "### 1. Checking for configuration insolvability"
   ]
  },
  {
   "cell_type": "code",
   "execution_count": 4,
   "metadata": {},
   "outputs": [],
   "source": [
    "def inversion_count(state):\n",
    "    '''\n",
    "    Returns the number of possible inversions in a state.\n",
    "    An inversion is possible when the value of tile i exceeds\n",
    "    the value of tile j, and i comes before j. The empty tile\n",
    "    is exluded from consideration. If the count is odd, the state\n",
    "    cannot be solved.\n",
    "\n",
    "    '''\n",
    "    \n",
    "    state = np.array(state)\n",
    "    state = state[state!= 0] # deleting the zero\n",
    "    state = tuple(state.flatten()) # flattening for convenience\n",
    "    counter = 0\n",
    "    \n",
    "    for i in range(len(state)-1):\n",
    "        for j in range((i+1),(len(state))):\n",
    "            if state[i] > state[j]:\n",
    "                counter +=1\n",
    "    return(counter)"
   ]
  },
  {
   "cell_type": "markdown",
   "metadata": {},
   "source": [
    "### 2. Disjoint pattern database heuristic"
   ]
  },
  {
   "cell_type": "markdown",
   "metadata": {},
   "source": [
    "Admissable heuristics are found by relaxing the problems. E.g. in Manhattan distance, we imagine that there are no other tiles in the way of a tile's movement. However, the biggest drawback of both heuristics, used above, is that they do not take into account the interactions between tiles. Therefore, a more helpful heuristic should account for such interactions. \n",
    "\n",
    "One way to do so is to split the goal state into subgoals. We can then compute the costs of solving each individual subgoal independently. If such subgoals are disjoint, we can use the sum of costs as a new (and a better) admissible heuristic (Korf & Felner, n.d.). Manhattan distance is a special case of this idea where each set is a single tile. In order to precompute and store such costs, we can use the concept of memoization, i.e. the ability of computers to store the results of expensive function calls and to return the cached results when the same inputs occur again (Wikipedia, n.d.). "
   ]
  },
  {
   "cell_type": "markdown",
   "metadata": {},
   "source": [
    "## A* Implementation"
   ]
  },
  {
   "cell_type": "code",
   "execution_count": 5,
   "metadata": {},
   "outputs": [],
   "source": [
    "def solvePuzzle(init_state, heuristic=None):\n",
    "    \n",
    "    '''\n",
    "    \n",
    "    init_state - the starting (scrambled) state of the puzzle,\n",
    "    provided as a list of lists, with the blank space\n",
    "    represented by the number 0. \n",
    "    \n",
    "    heuristic - a handle to a heuristic function.\n",
    "\n",
    "    '''\n",
    "    \n",
    "    n = len(init_state)\n",
    "    exp = 0 \n",
    "    frontier_size = []\n",
    "    err = 0\n",
    "    \n",
    "    # Validation of input arguments\n",
    "    \n",
    "    row_size = True # indicator for whether all sublists are of the right size\n",
    "    for row in init_state:\n",
    "        if len(row) != n:\n",
    "            row_size = False\n",
    "            \n",
    "    if ((n<=0) or (type(n)!=int) or (sorted([i for row in init_state for i in row]) != list(range(n**2))) or row_size!=True):\n",
    "#         print('Invalid input, please adjust.') \n",
    "        err = -1\n",
    "        return(0,0,0,None,err)\n",
    "    \n",
    "    # Checking for configuration insolvability\n",
    "    if n%2: # if even-sized board\n",
    "        if (inversion_count(init_state)%2):\n",
    "            err = -2\n",
    "            return(0,0,0,None,err)\n",
    "    else: # if odd-sized board\n",
    "        if not (inversion_count(init_state)%2): \n",
    "            err = -2\n",
    "            return(0,0,0,None,err)\n",
    "    \n",
    "    # Since the current node is the start node, so the distance betwen them is 0,\n",
    "    # we can just pass the heuristic value as the f value.\n",
    "    init_node = PuzzleNode(f=heuristic(init_state), state=init_state)\n",
    "    open_list = [] # Frontier of nodes to be evaluated\n",
    "    heapq.heappush(open_list,init_node)\n",
    "    frontier_size.append(len(open_list))\n",
    "    \n",
    "    # Keeping a dictionary of visited nodes (of PuzzleNode class), using their\n",
    "    # state as a key. Could not keep the state in numpy array form, since\n",
    "    # it is unhashable; storing in a flat state.\n",
    "    closed_list = {}\n",
    "    closed_list[tuple(init_node.state.flatten())] = init_node\n",
    "    \n",
    "    while open_list:\n",
    "\n",
    "        # Gives the node with the least f val,\n",
    "        # as specified by the comparison mehtod.\n",
    "        current_node = heapq.heappop(open_list)\n",
    "        \n",
    "        if current_node.solved_test():\n",
    "            node = current_node\n",
    "            opt_path = [(node.state).tolist()]\n",
    "            \n",
    "            while node != init_node:\n",
    "                opt_path.append((node.parent.state).tolist()) #.tolist()\n",
    "                node = node.parent \n",
    "            steps = len(opt_path)-1\n",
    "            break\n",
    "            \n",
    "        if current_node.pruned == True:\n",
    "            continue\n",
    "        \n",
    "        # Generate a list of possible moves, expressed as\n",
    "        # additions/subtractions along each axis in matrix.\n",
    "        \n",
    "        potential_moves = [[0,-1],[0,1],[-1,0],[1,0]]\n",
    "        \n",
    "        empty_spot = np.where(current_node.state==0)\n",
    "        \n",
    "        # Neighbors of the empty spot that can be moved in its place\n",
    "        neighbor_indices = [] \n",
    "        \n",
    "        for sublist in potential_moves:\n",
    "            new_pos = []\n",
    "            for i in range(len(sublist)):\n",
    "                new_pos.append(sublist[i]+int(empty_spot[i]))\n",
    "            # only keep the ones that satisfy bounds\n",
    "            if ((0<=new_pos[0] and new_pos[0]<=(n-1)) and (0<=new_pos[1] and new_pos[1]<=(n-1))):\n",
    "                neighbor_indices.append(new_pos)\n",
    "\n",
    "        possible_children_nodes = []\n",
    "        \n",
    "        for coordinates in neighbor_indices:\n",
    "            new_current_node = copy.deepcopy(current_node)\n",
    "            new_current_node.state[coordinates[0],coordinates[1]], new_current_node.state[empty_spot] = 0, new_current_node.state[coordinates[0],coordinates[1]]\n",
    "            possible_children_nodes.append(new_current_node)\n",
    "\n",
    "        for child_node in possible_children_nodes: \n",
    "            g = current_node.g + 1 # all children are one step away from the parrent (current) node\n",
    "            \n",
    "            if tuple(child_node.state.flatten()) in closed_list:\n",
    "                if (closed_list[tuple(child_node.state.flatten())]).g > g:\n",
    "                    (closed_list[tuple(child_node.state.flatten())]).pruned = True\n",
    "                else:\n",
    "                    # Since the existing identical child in closed_list has a lower cost\n",
    "                    # we can skip this child and not add it to the open_list.\n",
    "                    continue \n",
    "                    \n",
    "            # Set the heuristic value from this child node to goal state.\n",
    "            h = heuristic(child_node.state)\n",
    "            \n",
    "            # Assign the f and g values to the child_node.\n",
    "            child_node.g, child_node.f, child_node.parent = g, (g+int(h)), current_node\n",
    "            \n",
    "            # Add new child to the open_list to be explored.\n",
    "            heapq.heappush(open_list, child_node)\n",
    "            frontier_size.append(len(open_list))\n",
    "            \n",
    "            # Add the node to closed_list.\n",
    "            closed_list[tuple(child_node.state.flatten())] = child_node\n",
    "        \n",
    "            exp +=1\n",
    "    \n",
    "    opt_path.reverse()\n",
    "    \n",
    "    return(steps, exp, max(frontier_size), opt_path, err)"
   ]
  },
  {
   "cell_type": "markdown",
   "metadata": {},
   "source": [
    "### Basic Functionality Tests"
   ]
  },
  {
   "cell_type": "code",
   "execution_count": 6,
   "metadata": {},
   "outputs": [],
   "source": [
    "## Test for state not correctly defined\n",
    "\n",
    "incorrect_state = [[0,1,2],[2,3,4],[5,6,7]]\n",
    "_,_,_,_,err = solvePuzzle(incorrect_state, lambda state: 0)\n",
    "assert(err == -1)"
   ]
  },
  {
   "cell_type": "code",
   "execution_count": 7,
   "metadata": {},
   "outputs": [],
   "source": [
    "## Heuristic function tests for misplaced tiles and manhattan distance\n",
    "\n",
    "# Define the working initial states\n",
    "working_initial_states_8_puzzle = ([[2,3,7],[1,8,0],[6,5,4]],\n",
    "                                   [[7,0,8],[4,6,1],[5,3,2]],\n",
    "                                   [[5,7,6],[2,4,3],[8,1,0]])\n",
    "\n",
    "# Test the values returned by the heuristic functions\n",
    "h_mt_vals = [7,8,7]\n",
    "h_man_vals = [15,17,18]\n",
    "\n",
    "for i in range(0,3):\n",
    "    h_mt = heuristics[0](working_initial_states_8_puzzle[i])\n",
    "    h_man = heuristics[1](working_initial_states_8_puzzle[i])\n",
    "    assert(h_mt == h_mt_vals[i])\n",
    "    assert(h_man == h_man_vals[i])"
   ]
  },
  {
   "cell_type": "code",
   "execution_count": 8,
   "metadata": {},
   "outputs": [],
   "source": [
    "## A* Tests for 3 x 3 boards\n",
    "## This test runs A* with both heuristics and ensures that the same optimal number of steps are found\n",
    "## with each heuristic.\n",
    "\n",
    "# Optimal path to the solution for the first 3 x 3 state\n",
    "opt_path_soln = [[[2, 3, 7], [1, 8, 0], [6, 5, 4]], [[2, 3, 7], [1, 8, 4], [6, 5, 0]], \n",
    "                 [[2, 3, 7], [1, 8, 4], [6, 0, 5]], [[2, 3, 7], [1, 0, 4], [6, 8, 5]], \n",
    "                 [[2, 0, 7], [1, 3, 4], [6, 8, 5]], [[0, 2, 7], [1, 3, 4], [6, 8, 5]], \n",
    "                 [[1, 2, 7], [0, 3, 4], [6, 8, 5]], [[1, 2, 7], [3, 0, 4], [6, 8, 5]], \n",
    "                 [[1, 2, 7], [3, 4, 0], [6, 8, 5]], [[1, 2, 0], [3, 4, 7], [6, 8, 5]], \n",
    "                 [[1, 0, 2], [3, 4, 7], [6, 8, 5]], [[1, 4, 2], [3, 0, 7], [6, 8, 5]], \n",
    "                 [[1, 4, 2], [3, 7, 0], [6, 8, 5]], [[1, 4, 2], [3, 7, 5], [6, 8, 0]], \n",
    "                 [[1, 4, 2], [3, 7, 5], [6, 0, 8]], [[1, 4, 2], [3, 0, 5], [6, 7, 8]], \n",
    "                 [[1, 0, 2], [3, 4, 5], [6, 7, 8]], [[0, 1, 2], [3, 4, 5], [6, 7, 8]]]\n",
    "\n",
    "astar_steps = [17, 25, 28]\n",
    "for i in range(0,3):\n",
    "    steps_mt, expansions_mt, _, opt_path_mt, _ = solvePuzzle(working_initial_states_8_puzzle[i], heuristics[0])\n",
    "    steps_man, expansions_man, _, opt_path_man, _ = solvePuzzle(working_initial_states_8_puzzle[i], heuristics[1])\n",
    "    # Test whether the number of optimal steps is correct and the same\n",
    "    assert(steps_mt == steps_man == astar_steps[i])\n",
    "    # Test whether or not the manhattan distance dominates the misplaced tiles heuristic in every case\n",
    "    assert(expansions_man < expansions_mt)\n",
    "    # For the first state, test that the optimal path is the same\n",
    "    if i == 0:\n",
    "        assert(opt_path_mt == opt_path_soln)"
   ]
  },
  {
   "cell_type": "code",
   "execution_count": 9,
   "metadata": {},
   "outputs": [],
   "source": [
    "## A* Test for 4 x 4 board\n",
    "## This test runs A* with both heuristics and ensures that the same optimal number of steps are found\n",
    "## with each heuristic.\n",
    "\n",
    "working_initial_state_15_puzzle = [[1,2,6,3],[0,9,5,7],[4,13,10,11],[8,12,14,15]]\n",
    "steps_mt, expansions_mt, _, _, _ = solvePuzzle(working_initial_state_15_puzzle, heuristics[0])\n",
    "steps_man, expansions_man, _, _, _ = solvePuzzle(working_initial_state_15_puzzle, heuristics[1])\n",
    "\n",
    "# Test whether the number of optimal steps is correct and the same\n",
    "assert(steps_mt == steps_man == 9)\n",
    "\n",
    "# Test whether or not the manhattan distance dominates the misplaced tiles heuristic in every case\n",
    "assert(expansions_mt >= expansions_man)"
   ]
  },
  {
   "cell_type": "code",
   "execution_count": 10,
   "metadata": {},
   "outputs": [],
   "source": [
    "## Puzzle solvability test\n",
    "\n",
    "unsolvable_initial_state = [[7,5,6],[2,4,3],[8,1,0]]\n",
    "_,_,_,_,err = solvePuzzle(unsolvable_initial_state, lambda state: 0)\n",
    "assert(err == -2)"
   ]
  },
  {
   "cell_type": "markdown",
   "metadata": {},
   "source": [
    "### Personal tests"
   ]
  },
  {
   "cell_type": "code",
   "execution_count": 11,
   "metadata": {},
   "outputs": [
    {
     "name": "stdout",
     "output_type": "stream",
     "text": [
      "State to be solved:  [[7, 2, 4], [5, 0, 6], [8, 3, 1]]\n",
      "Using heuristic:  Misplaced tiles\n",
      "Number of steps in optimal solution:  26\n",
      "Expansion factor:  55508\n",
      "Maximum frontier:  16364\n",
      "Using heuristic:  Mahattan distance\n",
      "Number of steps in optimal solution:  26\n",
      "Expansion factor:  5008\n",
      "Maximum frontier:  1789\n",
      "\n",
      "\n",
      "State to be solved:  [[0, 2, 3], [6, 7, 5], [8, 4, 1]]\n",
      "This state is unsolvable.\n",
      "\n",
      "\n",
      "State to be solved:  [[1, 8, 0], [5, 7, 6], [3, 4, 2]]\n",
      "Using heuristic:  Misplaced tiles\n",
      "Number of steps in optimal solution:  22\n",
      "Expansion factor:  9623\n",
      "Maximum frontier:  3492\n",
      "Using heuristic:  Mahattan distance\n",
      "Number of steps in optimal solution:  22\n",
      "Expansion factor:  873\n",
      "Maximum frontier:  327\n",
      "\n",
      "\n"
     ]
    }
   ],
   "source": [
    "states = [[[7,2,4],[5,0,6],[8,3,1]],\n",
    "        [[0,2,3],[6,7,5],[8,4,1]],\n",
    "        [[1,8,0],[5,7,6],[3,4,2]]]\n",
    "\n",
    "heuristics = {'Misplaced tiles':h1,'Mahattan distance':h2}\n",
    "\n",
    "for state in states:\n",
    "    print('State to be solved: ', state)\n",
    "    \n",
    "    for heuristic in heuristics:\n",
    "        steps, exp, max_frontier, opt_path, err = solvePuzzle(state, heuristics[heuristic])\n",
    "        if exp==0 or max_frontier==0:\n",
    "            print('This state is unsolvable.')\n",
    "            break\n",
    "        else:\n",
    "            print('Using heuristic: ', heuristic)\n",
    "            print('Number of steps in optimal solution: ', steps)\n",
    "            print('Expansion factor: ', exp)\n",
    "            print('Maximum frontier: ', max_frontier)\n",
    "    print('\\n')"
   ]
  },
  {
   "cell_type": "markdown",
   "metadata": {},
   "source": [
    "### References\n",
    "Korf R.E. & Felner A. (n.d.) https://homepage.iis.sinica.edu.tw/~tshsu/tcg/2012/slides/slide4.pdf\n",
    "\n",
    "Wikipedia (n.d.) https://en.wikipedia.org/wiki/Memoization"
   ]
  }
 ],
 "metadata": {
  "kernelspec": {
   "display_name": "Python 3 (ipykernel)",
   "language": "python",
   "name": "python3"
  },
  "language_info": {
   "codemirror_mode": {
    "name": "ipython",
    "version": 3
   },
   "file_extension": ".py",
   "mimetype": "text/x-python",
   "name": "python",
   "nbconvert_exporter": "python",
   "pygments_lexer": "ipython3",
   "version": "3.9.12"
  }
 },
 "nbformat": 4,
 "nbformat_minor": 2
}
